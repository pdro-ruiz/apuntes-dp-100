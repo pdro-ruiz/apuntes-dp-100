{
 "cells": [
  {
   "cell_type": "markdown",
   "metadata": {},
   "source": [
    "# Privacidad Diferencial para Análisis de Datos\n",
    "\n",
    "**Problema**: Los proyectos de Data Science, como de Machine Learning, pueden involucrar datos personales sensibles que requieren protección. Informes basados en agregaciones de datos parecen brindar privacidad, pero al combinarlos se podría revelar información individual.\n",
    "\n",
    "    Ejemplo: 10 participantes comparten datos de ubicación y salario. Se producen informes:\n",
    "\n",
    "    Salario promedio en 3 ciudades (Nueva York, San Francisco, Seattle)\n",
    "    10% de participantes en Seattle\n",
    "    Combinando los informes: Se puede inferir el salario del único participante en Seattle.\n",
    "\n",
    "**Solución**: La privacidad diferencial es una técnica que ayuda a proteger los datos individuales ante este tipo de exposición."
   ]
  },
  {
   "cell_type": "markdown",
   "metadata": {},
   "source": [
    "#### Privacidad Diferencial con Ruido Estadístico\n",
    "\n",
    "La privacidad diferencial protege los datos individuales añadiendo ruido estadístico al análisis. Introduce una \"incertidumbre controlada\" en los análisis, permitiendo obtener resultados estadísticamente válidos sin revelar información específica de los individuos.\n",
    "\n",
    "Funcionamiento:\n",
    "- Se agrega ruido a las agregaciones de datos para dificultar la inferencia de valores individuales.\n",
    "- El ruido mantiene la consistencia estadística general.\n",
    "- El ruido es aleatorio y cambia en cada análisis para evitar resultados determinísticos."
   ]
  },
  {
   "cell_type": "markdown",
   "metadata": {},
   "source": [
    "#### Opt-out en estudios y privacidad diferencial\n",
    "\n",
    "El opt-out es una opción, pero tiene limitaciones. La privacidad diferencial ofrece una alternativa que protege a todos los participantes mientras permite la realización de estudios.\n",
    "\n",
    "Opt-out como opción de protección de datos:\n",
    "- Permite a los individuos negar su participación en estudios.\n",
    "- Limita la revelación de información personal.\n",
    "\n",
    "Limitaciones del opt-out:\n",
    "- Resultados del estudio aún pueden afectarte (ej. aumento de seguro por correlación identificada).\n",
    "- Beneficios de participar podrían superar riesgos (ej. pago por participar vs. aumento mínimo en seguro).\n",
    "- Requiere que todos se abstengan para ser efectivo, lo que dificulta la realización del estudio.\n",
    "\n",
    "Privacidad diferencial como alternativa:\n",
    "- Agrega \"ruido\" a los datos para proteger la privacidad individual.\n",
    "- Epsilon: parámetro que configura el nivel de privacidad (mayor valor, menor privacidad pero mayor precisión).\n",
    "\n"
   ]
  },
  {
   "cell_type": "markdown",
   "metadata": {},
   "source": [
    "#### Opt-out vs. Privacidad Diferencial en la Protección de Datos\n",
    "\n",
    "El opt-out tiene limitaciones, mientras que la privacidad diferencial ofrece una protección más integral para los participantes en estudios.\n",
    "\n",
    "1. **Opt-out**: permite a las personas optar por no participar en un estudio.\n",
    "\n",
    "    **Limitaciones del opt-out**:\n",
    "    - Los resultados del estudio aún pueden afectarte, incluso si no participas (ej. aumento de seguro por correlaciones identificadas).\n",
    "    - La participación puede tener beneficios (ej. pago por participar) que superan los riesgos potenciales.\n",
    "    - Requiere que todos se abstengan para ser efectiva, lo que dificulta la realización del estudio.\n",
    "\n",
    "2. **Privacidad diferencial**: agrega ruido a los datos para proteger la privacidad individual mientras permite la investigación.\n",
    "\n",
    "    **Parámetro Epsilon**: configura el nivel de privacidad:\n",
    "    - *Valor bajo*: mayor privacidad pero menos precisión en los datos agregados.\n",
    "    - *Valor alto*: mayor precisión pero menor privacidad."
   ]
  }
 ],
 "metadata": {
  "language_info": {
   "name": "python"
  }
 },
 "nbformat": 4,
 "nbformat_minor": 2
}
