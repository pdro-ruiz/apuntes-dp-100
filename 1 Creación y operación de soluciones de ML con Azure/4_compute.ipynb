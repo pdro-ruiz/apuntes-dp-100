{
 "cells": [
  {
   "cell_type": "markdown",
   "metadata": {},
   "source": [
    "# Objetivos de cómputo en Azure ML\n",
    "\n",
    "Son computadoras físicas o virtuales donde se ejecutan experimentos. Existen distintos tipos para adaptarse a tus necesidades.\n",
    "\n",
    "1. Tipos de objetivos de cómputo\n",
    "    - **Cómputo local**: Ideal para desarrollo y pruebas con poca data.\n",
    "        Se ejecuta en el mismo dispositivo donde inicias el experimento (ej. nuestro pc, en la estacion de trabajo del notebook...).\n",
    "    - **Clúster de cómputo**: Para alta escalabilidad con mucha data o procesamiento paralelo.\n",
    "        Grupos de máquinas virtuales que se expanden o contraen según la demanda/necesidad.\n",
    "    - **Cómputo adjunto**: Aprovecha entornos de cómputo ya existentes en Azure (ej. máquinas virtuales, Databricks).\n",
    "        Útil para cargas de trabajo específicas.\n",
    "\n",
    "2. Objetivos de cómputo para inferencia (solo para Azure ML Studio)\n",
    "    - **Clústeres de inferencia**: Utilizan Azure Kubernetes Service para desplegar modelos entrenados como servicios de inferencia.\n",
    "\n",
    "3. Beneficios de usar objetivos de cómputo\n",
    "    - **Flexibilidad**: Desarrollar y probar en local, luego escalar a producción.\n",
    "    - **Optimización de recursos**: Ejecutar procesos en el objetivo más adecuado (ej. CPU para entrenar, CPU solo para evaluar).\n",
    "    - **Control de costes**: Pagar solo por el uso, iniciar y detener objetivos automáticamente, escalado automático.\n"
   ]
  },
  {
   "cell_type": "markdown",
   "metadata": {},
   "source": [
    "#### 1. Creación de objetivos de computo\n",
    "\n",
    "Las maneras más comunes de crear o asociar un compute target son, usar la página Compute en Azure ML Studio o usar el SDK.\n",
    "\n",
    "##### - Creación de un objetivo de computo administrado con el SDK \n",
    "    \n",
    "Es aquel por Azure ML, como un clúster de proceso de Azure Machine Learning.\n",
    "\n",
    "Para crear un clúster de proceso de Azure Machine Learning, use la  clase `azureml.core.compute.ComputeTarget` y la  clase `AmlCompute`, como se muestra a continuación."
   ]
  },
  {
   "cell_type": "code",
   "execution_count": null,
   "metadata": {},
   "outputs": [],
   "source": [
    "from azureml.core import Workspace\n",
    "from azureml.core.compute import ComputeTarget, AmlCompute\n",
    "\n",
    "# Load the workspace from the saved config file\n",
    "ws = Workspace.from_config()\n",
    "\n",
    "# Specify a name for the compute (unique within the workspace)\n",
    "compute_name = 'aml-cluster'\n",
    "\n",
    "# Define compute configuration\n",
    "compute_config = AmlCompute.provisioning_configuration(vm_size='STANDARD_DS11_V2',      # Creamos un objeto AmlCompute con la configuración necesaria   \n",
    "                                                       min_nodes=0, max_nodes=4,        # Definimos el número mínimo y máximo de nodos\n",
    "                                                       vm_priority='dedicated')         # Definimos la prioridad del clúster\n",
    "\n",
    "# Create the compute\n",
    "aml_cluster = ComputeTarget.create(ws, compute_name, compute_config)                    # Creamos el clúster de cálculo\n",
    "aml_cluster.wait_for_completion(show_output=True)                                       # Esperamos a que se complete la creación"
   ]
  },
  {
   "cell_type": "markdown",
   "metadata": {},
   "source": [
    "##### - Adjuntar un objetivo de computo no gestionado con el SDK\n",
    "\n",
    "Un compute target no gestionado es aquel que se define y gestiona fuera del espacio de trabajo de Azure ML; por ejemplo, una máquina virtual Azure o un clúster Azure Databricks.\n",
    "\n",
    "El codigo usado para gestionar los compute targets no administrados es similar al de cómputo administrado, excepto que debe utilizar el método `ComputeTarget.attach()` para adjuntar el cómputo existente en función de sus ajustes de configuración específicos del objetivo.\n",
    "\n",
    "Por ejemplo, este codigo se puede utilizar para adjuntar un clúster Azure Databricks existente"
   ]
  },
  {
   "cell_type": "code",
   "execution_count": null,
   "metadata": {},
   "outputs": [],
   "source": [
    "from azureml.core import Workspace\n",
    "from azureml.core.compute import ComputeTarget, DatabricksCompute\n",
    "\n",
    "ws = Workspace.from_config()\n",
    "\n",
    "compute_name = 'db_cluster'\n",
    "\n",
    "db_workspace_name = 'db_workspace'\n",
    "db_resource_group = 'db_resource_group'\n",
    "db_access_token = '1234-abc-5678-defg-90...'\n",
    "db_config = DatabricksCompute.attach_configuration(resource_group=db_resource_group,        # Creamos un objeto DatabricksCompute con la configuración necesaria\n",
    "                                                   workspace_name=db_workspace_name,        # Definimos el nombre del clúster de Databricks\n",
    "                                                   access_token=db_access_token)            # Definimos el token de acceso\n",
    "\n",
    "# Create the compute\n",
    "databricks_compute = ComputeTarget.attach(ws, compute_name, db_config)                      # Creamos el clúster de Databricks\n",
    "databricks_compute.wait_for_completion(True)"
   ]
  },
  {
   "cell_type": "markdown",
   "metadata": {},
   "source": [
    "##### - Comprobación de la existencia de objetivos de cálculo\n",
    "\n",
    "Si se quiere comprobar la existencia de un objetivo de cálculo y crear uno nuevo sólo si no hay ninguno con el nombre especificado. \n",
    "Para esto, podemos capturar la excepción `ComputeTargetException`"
   ]
  },
  {
   "cell_type": "code",
   "execution_count": null,
   "metadata": {},
   "outputs": [],
   "source": [
    "from azureml.core.compute import ComputeTarget, AmlCompute\n",
    "from azureml.core.compute_target import ComputeTargetException\n",
    "\n",
    "compute_name = \"aml-cluster\"\n",
    "\n",
    "# Check if the compute target exists\n",
    "try:\n",
    "    aml_cluster = ComputeTarget(workspace=ws, name=compute_name)\n",
    "    print('Found existing cluster.')\n",
    "except ComputeTargetException:\n",
    "    # If not, create it\n",
    "    compute_config = AmlCompute.provisioning_configuration(vm_size='STANDARD_DS11_V2',\n",
    "                                                           max_nodes=4)\n",
    "    aml_cluster = ComputeTarget.create(ws, compute_name, compute_config)\n",
    "\n",
    "aml_cluster.wait_for_completion(show_output=True)"
   ]
  },
  {
   "cell_type": "markdown",
   "metadata": {},
   "source": [
    "#### 2. Uso de los objetivos de computo\n",
    "\n",
    "Una vez se hayan creado o asociado los compute targets en la workstation, puede usarlos para ejecutar cargas de trabajo específicas; como son los experimentos.\n",
    "\n",
    "Para usar un objetivo de computo determinado, puede especificarlo en el parámetro adecuado para una configuración de ejecución de experimentos. \n",
    "\n",
    "Por ejemplo, el siguiente codigo configura un estimador para usar el destino de proceso denominado aml-cluster"
   ]
  },
  {
   "cell_type": "code",
   "execution_count": null,
   "metadata": {},
   "outputs": [],
   "source": [
    "from azureml.core import Environment, ScriptRunConfig\n",
    "\n",
    "compute_name = 'aml-cluster'\n",
    "\n",
    "training_env = Environment.get(workspace=ws, name='training_environment')\n",
    "\n",
    "script_config = ScriptRunConfig(source_directory='my_dir',                      # Creamos un objeto ScriptRunConfig con la configuración necesaria\n",
    "                                script='script.py',                             # Definimos el directorio y el script\n",
    "                                environment=training_env,                       # Definimos el entorno\n",
    "                                compute_target=compute_name)                    # Definimos el clúster de cálculo"
   ]
  },
  {
   "cell_type": "markdown",
   "metadata": {},
   "source": [
    "Cuando se envía un experimento, la ejecución se pondrá en cola mientras se inicia el objetivo de computación aml-cluster y se crea en él el entorno especificado, y luego la ejecución se procesará en el entorno de computación.\n",
    "\n",
    "En lugar de especificar el nombre del objetivo de computación, puede especificar un objeto `ComputeTarget`"
   ]
  },
  {
   "cell_type": "code",
   "execution_count": null,
   "metadata": {},
   "outputs": [],
   "source": [
    "from azureml.core import Environment, ScriptRunConfig\n",
    "from azureml.core.compute import ComputeTarget\n",
    "\n",
    "compute_name = \"aml-cluster\"\n",
    "\n",
    "training_cluster = ComputeTarget(workspace=ws, name=compute_name)\n",
    "\n",
    "training_env = Environment.get(workspace=ws, name='training_environment')\n",
    "\n",
    "script_config = ScriptRunConfig(source_directory='my_dir',                      # Creamos un objeto ScriptRunConfig con la configuración necesaria\n",
    "                                script='script.py',                             # Definimos el directorio y el script\n",
    "                                environment=training_env,                       # Definimos el entorno\n",
    "                                compute_target=training_cluster)                # Definimos el clúster de cálculo con compute_target"
   ]
  }
 ],
 "metadata": {
  "kernelspec": {
   "display_name": "jupyterlab",
   "language": "python",
   "name": "python3"
  },
  "language_info": {
   "name": "python",
   "version": "3.11.7"
  }
 },
 "nbformat": 4,
 "nbformat_minor": 2
}
