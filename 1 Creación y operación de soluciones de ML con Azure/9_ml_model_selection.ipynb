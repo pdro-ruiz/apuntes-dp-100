{
 "cells": [
  {
   "cell_type": "markdown",
   "metadata": {},
   "source": [
    "# Privacidad Diferencial para el Análisis de Datos\n",
    "\n",
    "**Problema**: Proyectos de ciencia de datos, como aprendizaje automático, pueden involucrar datos personales sensibles que requieren protección. Informes basados en agregaciones de datos parecen brindar privacidad, pero al combinarlos se podría revelar información individual.\n",
    "\n",
    "- Ejemplo: 10 participantes comparten datos de ubicación y salario. Se producen informes:\n",
    "\n",
    "  - Salario promedio en 3 ciudades (Nueva York, San Francisco, Seattle)\n",
    "  - 10% de participantes en Seattle\n",
    "    \n",
    "    Combinando los informes: Se puede inferir el salario del único participante en Seattle.\n",
    "\n",
    "**Solución**: La privacidad diferencial es una técnica que ayuda a proteger los datos individuales ante este tipo de exposición.\n"
   ]
  },
  {
   "cell_type": "markdown",
   "metadata": {},
   "source": [
    "#### Privación diferencial con ruido estadístico\n",
    "La privacidad diferencial protege los datos individuales añadiendo ruido estadístico al análisis.\n",
    "\n",
    "Funcionamiento:\n",
    "- Se agrega ruido a las agregaciones de datos para dificultar la inferencia de valores individuales.\n",
    "- El ruido mantiene la consistencia estadística general.\n",
    "- El ruido es aleatorio y cambia en cada análisis para evitar resultados determinísticos.\n",
    "\n",
    "La privacidad diferencial introduce una \"incertidumbre controlada\" en los análisis, permitiendo obtener resultados estadísticamente válidos sin revelar información específica de los individuos."
   ]
  },
  {
   "cell_type": "markdown",
   "metadata": {},
   "source": [
    "##### Opt-out en estudios y privacidad diferencial\n",
    "\n",
    "Opt-out como opción de protección de datos:\n",
    "- Permite a los individuos negar su participación en estudios.\n",
    "- Limita la revelación de información personal.\n",
    "\n",
    "Limitaciones del opt-out:\n",
    "- Resultados del estudio aún pueden afectarte (ej. aumento de seguro por correlación identificada).\n",
    "- Beneficios de participar podrían superar riesgos (ej. pago por participar vs. aumento mínimo en seguro).\n",
    "= Requiere que todos se abstengan para ser efectivo, lo que dificulta la realización del estudio.\n",
    "\n",
    "Privacidad diferencial como alternativa:\n",
    "- Agrega \"ruido\" a los datos para proteger la privacidad individual.\n",
    "- Epsilon: parámetro que configura el nivel de privacidad (mayor valor, menor privacidad pero mayor precisión).\n",
    "\n",
    "El opt-out es una opción, pero tiene limitaciones. La privacidad diferencial ofrece una alternativa que protege a todos los participantes mientras permite la realización de estudios."
   ]
  }
 ],
 "metadata": {
  "language_info": {
   "name": "python"
  }
 },
 "nbformat": 4,
 "nbformat_minor": 2
}
