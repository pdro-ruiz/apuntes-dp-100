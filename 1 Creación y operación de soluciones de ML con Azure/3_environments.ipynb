{
 "cells": [
  {
   "cell_type": "markdown",
   "metadata": {},
   "source": [
    "# Entornos \n",
    "\n",
    "Los códigos de Python se ejecutan en un entorno virtual, que define la versión del intérprete de Python y los paquetes instalados disponibles. Los entornos suelen gestionarse con Conda o Pip. Para mejorar la portabilidad, se suele crear entornos en contenedores **Docker** alojados en objetivos de cómputo (equipos de desarrollo, máquinas virtuales o clusters en la nube).\n",
    "\n",
    "AzureML gestiona la creación de los entornos y la instalación de paquetes, generalmente mediante contenedores Docker. Puedes especificar los paquetes necesarios y que AzureML cree un entorno para el experimento.\n",
    "\n",
    "Dentro de las soluciones empresariales, es importante conocer los entornos de ejecución del código. Los entornos están encapsulados en la clase `environment`, que permite crearlos y especificar la configuración de ejecución.\n",
    "\n",
    "Opciones de gestión de entornos:\n",
    "\n",
    "- Azure ML: Crea y registra el entorno automáticamente.\n",
    "- Gestión manual: Crea y registra entornos propios."
   ]
  },
  {
   "cell_type": "markdown",
   "metadata": {},
   "source": [
    "##### Creación de un entorno a partir de un archivo de especificación\n",
    "Podemos utilizar un archivo de especificación Conda o pip para definir los paquetes necesarios en un entorno de Python y utilizarlo para crear un objeto `Environment`."
   ]
  },
  {
   "cell_type": "code",
   "execution_count": null,
   "metadata": {},
   "outputs": [],
   "source": [
    "# Ejemplo de archivo de especificación de entorno que se podria llamar conda.yml\n",
    "\n",
    "name: py_env\n",
    "dependencies:\n",
    "  - numpy\n",
    "  - pandas\n",
    "  - scikit-learn\n",
    "  - pip:\n",
    "    - azureml-defaults"
   ]
  },
  {
   "cell_type": "code",
   "execution_count": null,
   "metadata": {},
   "outputs": [],
   "source": [
    "# Codigo para trabajar con el archivo conda.yml cy sus variables de entorno.\n",
    "\n",
    "from azureml.core import Environment\n",
    "\n",
    "env = Environment.from_conda_specification(name='training_environment',\n",
    "                                           file_path='./conda.yml')"
   ]
  },
  {
   "cell_type": "markdown",
   "metadata": {},
   "source": [
    "##### Creación de un entorno a partir de un entorno de Conda existente\n",
    "\n",
    "Si ya tenemos un entorno de Conda existente definido en la estación de trabajo, podemos usarlo para definir nuestro nuevo entorno."
   ]
  },
  {
   "cell_type": "code",
   "execution_count": null,
   "metadata": {},
   "outputs": [],
   "source": [
    "from azureml.core import Environment\n",
    "\n",
    "env = Environment.from_existing_conda_environment(name='training_environment',\n",
    "                                                  conda_environment_name='py_env')"
   ]
  },
  {
   "cell_type": "markdown",
   "metadata": {},
   "source": [
    "##### Creación de un entorno mediante la especificación de paquetes\n",
    "Podemos definir un entorno especificando los paquetes Conda y pip que necesitamos en un objeto CondaDependencies"
   ]
  },
  {
   "cell_type": "code",
   "execution_count": null,
   "metadata": {},
   "outputs": [],
   "source": [
    "from azureml.core import Environment\n",
    "from azureml.core.conda_dependencies import CondaDependencies\n",
    "\n",
    "env = Environment('training_environment')\n",
    "deps = CondaDependencies.create(conda_packages=['scikit-learn','pandas','numpy'],\n",
    "                                pip_packages=['azureml-defaults'])\n",
    "env.python.conda_dependencies = deps"
   ]
  },
  {
   "cell_type": "markdown",
   "metadata": {},
   "source": [
    "##### Configuración de contenedores de entorno\n",
    "\n",
    "Normalmente, los entornos para el script del experimento se crean en contenedores. \n",
    "\n",
    "En el código siguiente se configura un experimento basado en scripts para hospedar el entorno de entorno creado anteriormente en un contenedor (este es el valor predeterminado a menos que use `DockerConfiguration` con un  atributo `use_docker=False`, en cuyo caso el entorno se crea directamente en el destino de proceso)"
   ]
  },
  {
   "cell_type": "code",
   "execution_count": null,
   "metadata": {},
   "outputs": [],
   "source": [
    "from azureml.core import Experiment, ScriptRunConfig\n",
    "from azureml.core.runconfig import DockerConfiguration\n",
    "\n",
    "docker_config = DockerConfiguration(use_docker=True)\n",
    "\n",
    "script_config = ScriptRunConfig(source_directory='my_folder',\n",
    "                                script='my_script.py',\n",
    "                                environment=env,\n",
    "                                docker_runtime_config=docker_config)"
   ]
  },
  {
   "cell_type": "markdown",
   "metadata": {},
   "source": [
    "Azure ML usa una biblioteca de imágenes base para contenedores, eligiendo la base adecuada para el destino de proceso que se especifique (por ejemplo, incluida la compatibilidad de Cuda con el proceso basado en GPU). Si creamos imágenes de contenedor personalizadas y las hemos registrado en un registro de contenedor, podemos invalidar las imágenes base creadas y usar las nuestras propias modificando los atributos de la propiedad docker del entorno."
   ]
  },
  {
   "cell_type": "code",
   "execution_count": null,
   "metadata": {},
   "outputs": [],
   "source": [
    "env.docker.base_image='my-base-image'\n",
    "env.docker.base_image_registry='myregistry.azurecr.io/myimage'"
   ]
  },
  {
   "cell_type": "markdown",
   "metadata": {},
   "source": [
    "Como alternativa, podemos crear una imagen a petición en función de la imagen base y la configuración adicional de un `dockerfile`"
   ]
  },
  {
   "cell_type": "code",
   "execution_count": null,
   "metadata": {},
   "outputs": [],
   "source": [
    "env.docker.base_image = None\n",
    "env.docker.base_dockerfile = './Dockerfile'"
   ]
  },
  {
   "cell_type": "markdown",
   "metadata": {},
   "source": [
    "Por defecto, Azure Machine Learning controla las rutas de acceso de Python y las dependencias de paquetes.\n",
    "Si la imagen ya incluye una instalación de Python con las dependencias que necesita, podemos invalidar este comportamiento estableciendo `python.user_managed_dependencies=True` y estableciendo una ruta de acceso explícita de Python para la instalación."
   ]
  },
  {
   "cell_type": "code",
   "execution_count": null,
   "metadata": {},
   "outputs": [],
   "source": [
    "env.python.user_managed_dependencies=True\n",
    "env.python.interpreter_path = '/opt/miniconda/bin/python'"
   ]
  },
  {
   "cell_type": "markdown",
   "metadata": {},
   "source": [
    "#### Registro y reutilización de entornos\n",
    "Con el entorno creado, podemos registrarlo en el área de trabajo y reutilizarlo para futuros experimentos que tengan las mismas dependencias de Python.\n",
    "\n",
    "##### Registro de un entorno\n",
    "usamos el metodo `register` del objeto `Environment` para registrar un entorno"
   ]
  },
  {
   "cell_type": "code",
   "execution_count": null,
   "metadata": {},
   "outputs": [],
   "source": [
    "env.register(workspace=ws)"
   ]
  },
  {
   "cell_type": "markdown",
   "metadata": {},
   "source": [
    "Podemos ver los entornos registrados de la siguiente manera"
   ]
  },
  {
   "cell_type": "code",
   "execution_count": null,
   "metadata": {},
   "outputs": [],
   "source": [
    "from azureml.core import Environment\n",
    "\n",
    "env_names = Environment.list(workspace=ws)\n",
    "for env_name in env_names:\n",
    "    print('Name:',env_name)"
   ]
  },
  {
   "cell_type": "markdown",
   "metadata": {},
   "source": [
    "##### Recuperación y uso de un entorno\n",
    "Podemos recuperar un entorno registrado mediante el método `get` de la  clase `Environment` y, a continuación, asignarlo a `ScriptRunConfig`."
   ]
  },
  {
   "cell_type": "code",
   "execution_count": null,
   "metadata": {},
   "outputs": [],
   "source": [
    "#  En este ejemplo se recupera el entorno registrado training_environment y se asigna a una configuración de ejecución de script:\n",
    "\n",
    "from azureml.core import Environment, ScriptRunConfig\n",
    "\n",
    "training_env = Environment.get(workspace=ws, name='training_environment')\n",
    "\n",
    "script_config = ScriptRunConfig(source_directory='my_folder',\n",
    "                                script='my_script.py',\n",
    "                                environment=training_env)"
   ]
  }
 ],
 "metadata": {
  "kernelspec": {
   "display_name": "jupyterlab",
   "language": "python",
   "name": "python3"
  },
  "language_info": {
   "name": "python",
   "version": "3.11.7"
  }
 },
 "nbformat": 4,
 "nbformat_minor": 2
}
