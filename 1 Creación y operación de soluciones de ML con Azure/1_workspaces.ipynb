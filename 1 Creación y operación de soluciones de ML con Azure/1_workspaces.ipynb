{
 "cells": [
  {
   "cell_type": "markdown",
   "metadata": {},
   "source": [
    "Azure > Suscription > Resource group > Workspace\n",
    "\n",
    "## WORKSPACES\n",
    "Los espacios de trabajo son contextos para las tareas de aprendizaje automático.\n",
    "\n",
    "Contienen activos relacionados, como experimentos, datos y objetivos de cómputo.\n",
    "\n",
    "Componentes de un Espacio de Trabajo:\n",
    "- **Objetivos de Cómputo** = Destinos para entrenamiento y despliegue.\n",
    "- **Datos** = Utilizados para experimentación y entrenamiento de modelos.\n",
    "- **Notebooks** = Contienen código compartido y documentación.\n",
    "- **Experimentos** = Historial de ejecución con métricas y resultados registrados.\n",
    "- **Tuberías (Pipelines)** = Definen procesos orquestados de varios pasos.\n",
    "- **Modelos Entrenados**\n",
    "\n",
    "Recursos de Azure Asociados al Workspace:\n",
    "- **Cuenta de Almacenamiento** = Almacena archivos y datos para experimentos y entrenamiento.\n",
    "- **Application Insights** = Monitorea servicios predictivos en el espacio de trabajo.\n",
    "- **Azure Key Vault** = Gestiona secretos como claves de autenticación.\n",
    "- **Registro de Contenedores** = Creado según sea necesario para administrar modelos desplegados.\n",
    "- **Políticas de Autorización Basadas en Roles** = Restringe acciones específicas para usuarios y grupos.\n"
   ]
  },
  {
   "cell_type": "code",
   "execution_count": null,
   "metadata": {},
   "outputs": [],
   "source": [
    "# conexion al Workspace mediante SDK\n",
    "\n",
    "from azure.core Import Workspace\n",
    "ws = Workspace.create(\n",
    "    name = 'myworkspace',\n",
    "    subscription_id = 'subscription-id',\n",
    "    resource_group = 'myresourcegroup',\n",
    "    create_resource_group = True,\n",
    "    location = 'eastus'\n",
    ")\n",
    "\n",
    "\n",
    "# Conexion al Workspace mediante CLI\n",
    "az ml workspace create -w 'myworkspace' -g 'myresourcegroup'    #-w (workspace) -g (resource group)"
   ]
  },
  {
   "cell_type": "markdown",
   "metadata": {},
   "source": [
    "### Administrar Workspaces\n",
    "\n",
    "#### 1. Interfaces\n",
    "- **Azure Portal**: Interfaz general para todos los recursos de Azure, puede ser poco intuitiva para el aprendizaje automático, interesante para DevOps.\n",
    "- **Azure Machine Learning Studio**: Interfaz web dedicada a la gestión de workspaces de Azure Machine Learning, de facil acceso.\n",
    "    - Herramientas:\n",
    "      - Designer: Interfaz de arrastrar y soltar para el desarrollo de modelos sin código.\n",
    "      - Aprendizaje Automático Automatizado: Asistente para entrenar modelos con diferentes algoritmos y preprocesamiento de datos.\n",
    "    -  Programación:\n",
    "       - Ventaja: Automatización, repetibilidad, consistencia y CICD.\n",
    "\n",
    "- **SDKs**: Python y R (nosotros Python).\n",
    "  - Instalación con pip.\n",
    "  - Conexión al workspace:\n",
    "    - Archivo de configuración.\n",
    "      1. Método \"from_config\" de la clase Workspace.\n",
    "      2. Método \"Get\" de la clase Workspace (menos flexible).\n",
    "\n",
    "- **Azure CLI**: Herramienta de línea de comandos multiplataforma.\n",
    "  - Requiere extensión de Azure Machine Learning CLI.\n",
    "  - Comandos \"az ml\" con parámetros.\n",
    "\n",
    "- **Entornos de Desarrollo**:\n",
    "  1. **Compute Targets**: Instancias informáticas dentro del workspace.\n",
    "  2. **Jupyter Notebook/Lab**: Instalaciones preconfiguradas en compute targets para usar el SDK.\n",
    "  3. **Visual Studio Code**: Editor de código con extensiones para Python y Azure Machine Learning."
   ]
  },
  {
   "cell_type": "markdown",
   "metadata": {},
   "source": [
    "#### 2. Experimentos en AzureML\n",
    "\n",
    "Concepto:\n",
    "- proceso con nombre que ejecuta un script o pipeline.\n",
    "- Genera métricas y salidas guardadas en el workspace.\n",
    "- Permite múltiples ejecuciones con diferentes datos, código o configuraciones.\n",
    "- AzureML logea cada ejecución.\n",
    "\n",
    "Control de experimentos:\n",
    "- Mediante el contexto de ejecución del experimento.\n",
    "- Visualización de detalles en la pestaña de experimentos de AzureML Studio.\n",
    "\n",
    "Registro de métricas:\n",
    "- Archivos de registro con mensajes desde la terminal.\n",
    "- Funciones del objeto run para registrar métricas con nombre:\n",
    "    - `log`: Valor único con nombre.\n",
    "    - `log_list`: Lista con nombre.\n",
    "    - `log_row`: Fila con múltiples columnas.\n",
    "    - `log_table`: Diccionario como tabla.\n",
    "    - `log_image`: Imagen o gráfico.\n",
    "- Visual en Azure ML Studio o mediante el widget RunDetails.\n",
    "- Recuperación mediante el método get_metrics del objeto run."
   ]
  },
  {
   "cell_type": "code",
   "execution_count": null,
   "metadata": {},
   "outputs": [],
   "source": [
    "## Codigo para registrar el numero de entrada en un csv en un experimento\n",
    "\n",
    "from azureml.core import Experiment\n",
    "import pandas as pd\n",
    "\n",
    "# Crear un experimento en el workspace\n",
    "experiment = Experiment(workspace = ws, name= \"myexperiment\")\n",
    "\n",
    "# Iniciar el registro de datos en el experimento\n",
    "run = experiment.start_logging()\n",
    "\n",
    "# Cargar los datos y contar las filas\n",
    "data = pd.read_csv('data.csv')\n",
    "row_count = (len(data))\n",
    "\n",
    "# Registrar el número de filas\n",
    "run.log('observations', row_count)\n",
    "run.complete()"
   ]
  },
  {
   "cell_type": "code",
   "execution_count": null,
   "metadata": {},
   "outputs": [],
   "source": [
    "# Recuperar metricas con Widget RunDetails.\n",
    "\n",
    "from azureml.widgets import RunDetails\n",
    "RunDetails(run).show()"
   ]
  },
  {
   "cell_type": "code",
   "execution_count": null,
   "metadata": {},
   "outputs": [],
   "source": [
    "\n",
    "# Recuperar metricas con el metodo run object get_metrics\n",
    "import json\n",
    "\n",
    "\n",
    "metrics = run.get_metrics()\n",
    "print(json.dumps(metrics, indent=2))"
   ]
  },
  {
   "cell_type": "markdown",
   "metadata": {},
   "source": [
    "Generación de archivos de salida:\n",
    "\n",
    "modelos entrenados o cualquier tipo de archivo.\n",
    "- Guardados en la carpeta outputs del experimento.\n",
    "- Técnicas de carga de archivos según la ejecución del experimento:\n",
    "    - Ejecución en línea: upload_file del objeto run.\n",
    "    - Ejecución remota: Automática al finalizar la ejecución.\n",
    "- Recuperación mediante el método get_outputs del objeto run."
   ]
  },
  {
   "cell_type": "code",
   "execution_count": null,
   "metadata": {},
   "outputs": [],
   "source": [
    "# subir archivo con el objeto run\n",
    "run.upload_file(name='outputs/sample.csv', path_or_stream='./sample.csv')"
   ]
  },
  {
   "cell_type": "code",
   "execution_count": null,
   "metadata": {},
   "outputs": [],
   "source": [
    "# Recuperar archivos con el metodo run object get_file_names\n",
    "files = run.get_file_names()\n",
    "print(json.dumps(files, indent=2))"
   ]
  },
  {
   "cell_type": "markdown",
   "metadata": {},
   "source": [
    "Ejecución de experimentos:\n",
    "1. En línea mediante start_logging del objeto experiment.\n",
    "2. En script para mayor flexibilidad y escalabilidad."
   ]
  },
  {
   "cell_type": "code",
   "execution_count": null,
   "metadata": {},
   "outputs": [],
   "source": [
    "from azureml.core import Run\n",
    "import pandas as pd\n",
    "import matplotlib.pyplot as plt\n",
    "import os\n",
    "\n",
    "run = Run.get_context()\n",
    "\n",
    "data = pd.read_csv('data.csv')\n",
    "\n",
    "row_count = (len(data))\n",
    "run.log('observations', row_count)\n",
    "\n",
    "# Crear un directorio para los archivos de salida\n",
    "os.makedirs('outputs', exist_ok=True)\n",
    "data.sample(100).to_csv(\"outputs/sample.csv\", index=False, header=True)\n",
    "\n",
    "run.complete()"
   ]
  },
  {
   "cell_type": "markdown",
   "metadata": {},
   "source": [
    "Scripts de experimento:\n",
    "- Archivos Python con el código a ejecutar.\n",
    "- Importan azureml.core.run y utilizan get_context para acceder al contexto.\n",
    "- Utilizan el contexto para registrar métricas, subir archivos y finalizar el experimento.\n",
    "\n",
    "Configuración correcta de los scripts:\n",
    "- Definida por ScriptRunConfig: script a ejecutar y entorno Python.\n",
    "- Ejemplo: ejecutar script en carpeta específica con archivos dependientes (ej. data.csv).\n",
    "- Entorno Python definido por:\n",
    "    - Entorno predeterminado con paquetes disponibles.\n",
    "    - Entorno asociado a un objeto CondaDependencies para especificar paquetes adicionales."
   ]
  },
  {
   "cell_type": "code",
   "execution_count": null,
   "metadata": {},
   "outputs": [],
   "source": [
    "from azureml.core import Experiment, ScriptRunConfig\n",
    "\n",
    "# Crear un objeto de configuracion de ejecucion de script\n",
    "script_config = ScriptRunConfig(source_directory='experiment_folder', script='experiment.py')\n",
    "\n",
    "# Crear un experimento\n",
    "experiment = Experiment(workspace = ws, name = 'experiment_name')\n",
    "run = experiment.submit(config=script_config)\n",
    "run.wait_for_completion(show_output=True)"
   ]
  }
 ],
 "metadata": {
  "language_info": {
   "name": "python"
  }
 },
 "nbformat": 4,
 "nbformat_minor": 2
}
