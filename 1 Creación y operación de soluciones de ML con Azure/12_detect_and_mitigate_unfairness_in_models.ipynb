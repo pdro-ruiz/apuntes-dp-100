{
 "cells": [
  {
   "cell_type": "markdown",
   "metadata": {},
   "source": [
    "# Detección y Mitigación de Sesgos en Modelos de ML\n",
    "Los modelos de aprendizaje automático se utilizan cada vez más para tomar decisiones que impactan sobre la vida de las personas.\n",
    "\n",
    "Es crucial garantizar que estos modelos sean justos y no discriminen en base a características como etnia, género, edad, etc. Haciendo aumentar la confianza en la fiabilidad y transparencia de estos modelos."
   ]
  },
  {
   "cell_type": "markdown",
   "metadata": {},
   "source": [
    "#### Detección y Mitigación de Sesgos en Modelos de Aprendizaje Automático\n",
    "\n",
    "Mitigar el sesgo en modelos de aprendizaje automático es un desafío socio-técnico que requiere un enfoque integral que incluya técnicas y consideraciones sociales. \n",
    "\n",
    "**Fairness en Modelos de Predicción**\n",
    "- Garantizar que los modelos de aprendizaje automático sean justos y no discriminen en base a características como edad, género, etc.\n",
    "    \n",
    "Ejemplo:\n",
    "    \n",
    "    Un modelo predice la probabilidad de repago de préstamos y puede influir en la aprobación del préstamo.\n",
    "    Se evalúa la equidad comparando las predicciones para grupos con características sensibles (ej. edad).\n",
    "\n",
    "**Métricas de Evaluación**\n",
    "- Tasa de selección (proporción de predicciones positivas para cada grupo).\n",
    "- Rendimiento predictivo (ej. exactitud, precisión, recuerdo) para subgrupos basados en características sensibles.\n",
    "\n",
    "**Disparidad en las Métricas**\n",
    "- Indica un posible sesgo en el modelo.\n",
    "    \n",
    "Ejemplo:\n",
    "    \n",
    "    El modelo podría predecir correctamente el repago de préstamos para el 83% de las personas mayores de 25 años, pero solo para el 50% de las personas menores de 25 años.\n",
    "\n",
    "**Causas de disparidad**\n",
    "- Desequilibrio en los datos de entrenamiento.\n",
    "- Correlaciones ocultas entre características.\n",
    "- Sesgos subconscientes en el proceso de modelado.\n",
    "\n",
    "**Mitigación del Sesgo**\n",
    "- Equilibrar datos de entrenamiento y validación.\n",
    "- Selección y análisis cuidadoso de características.\n",
    "- Evaluar modelos para detectar disparidad.\n",
    "- Considerar el balance entre rendimiento general y disparidad entre grupos.\n",
    "\n",
    "**Herramientas**\n",
    "Paquetes de Python como `fairlearn` para evaluar y mitigar sesgos."
   ]
  },
  {
   "cell_type": "markdown",
   "metadata": {},
   "source": [
    "#### Paquete Fairlearn para Modelos Justos\n",
    "\n",
    "Fairlearn es una herramienta valiosa para mitigar el sesgo en modelos de aprendizaje automático y promover la equidad en las predicciones.\n",
    "\n",
    "Evalúa la disparidad en predicciones y rendimiento para características sensibles (ej. edad).\n",
    "\n",
    "**Funcionamiento**\n",
    "- Calcula métricas grupales basadas en métricas estándar (ej. precisión, exactitud).\n",
    "- Ofrece funciones para comparar métricas entre grupos sensibles.\n",
    "\n",
    "Ejemplo\n",
    "\n",
    "- Modelo de clasificación binaria predice la adjudicacion de préstamos (aprobado/rechazado).\n",
    "- Edad es la característica sensible con dos grupos: menor o igual a 25 y mayor a 25.\n",
    "- Se puede comparar la tasa de selección (aprobados) por grupo usando `selection_rate`.\n",
    "- Se pueden usar métricas estándar de `scikit-learn` (ej. precisión) para evaluar el rendimiento general del modelo.\n",
    "- `metric_frame` crea un marco de datos con métricas por grupo.\n",
    "- El widget interactivo permite visualizar las métricas y la disparidad entre grupos.\n",
    "\n",
    "\n",
    "Fairlearn permite ejecutar experimentos en Azure ML para subir métricas al espacio de trabajo."
   ]
  },
  {
   "cell_type": "markdown",
   "metadata": {},
   "source": [
    "#### Uso y Mitigación de Sesgos con Fairlearn\n",
    "\n",
    "Además de analizar la disparidad, Fairlearn ayuda a mitigar el sesgo en modelos de aprendizaje automático.\n",
    "\n",
    "Utiliza algoritmos para crear modelos alternativos que cumplan restricciones de paridad entre grupos con características sensibles.\n",
    "\n",
    "**Técnicas de Mitigación**\n",
    "- **Gradiente exponencial**: minimiza la disparidad mediante un enfoque de costo-beneficio.\n",
    "- **Búsqueda en cuadrícula**: similar al gradiente exponencial, pero más eficiente para pocas restricciones.\n",
    "- **Optimizador de umbral**: técnica post-procesamiento que aplica restricciones a un clasificador existente.\n",
    "\n",
    "**Restricciones de Paridad**\n",
    "\n",
    "Dependen de la técnica usada y del criterio de equidad deseado (todas aplican a clasificación binaria y regresión, excepto Optimizador de Umbral que solo funciona con clasificación binaria).\n",
    "- **Paridad Demográfica**: asegura la misma tasa de selección positiva en cada grupo sensible (ej. préstamos aprobados).\n",
    "- **Paridad en Tasa de Positivos Verdaderos**: asegura una razón comparable de predicciones positivas verdaderas entre grupos.\n",
    "- **Paridad en Tasa de Falsos Positivos**: asegura una razón comparable de predicciones positivas falsas entre grupos.\n",
    "- **Paridad de Oportunidades Igualadas**: minimiza la disparidad en la tasa de verdaderos positivos y falsos positivos combinados entre grupos.\n",
    "- **Paridad en Tasa de Error**: asegura que el error en cada grupo no se desvíe del error general por más de un valor especificado.\n",
    "- **Pérdida Limitada por Grupo**: restringe la pérdida para cada grupo sensible en un modelo de regresión.\n",
    "\n",
    "Selección del Modelo Mitigado\n",
    "- Se entrenan varios modelos con distintas restricciones y luego se comparan sus métricas para elegir el óptimo.\n",
    "- Suele implicar un balance entre rendimiento predictivo y equidad según su definición de equidad para un escenario dado.\n",
    "\n",
    "Visualización y Registro de Modelos\n",
    "- Fairlearn permite visualizar los modelos mitigados mediante un panel.\n",
    "- Puede registrar todos los modelos entrenados y subir las métricas del panel a Azure Machine Learning."
   ]
  },
  {
   "cell_type": "markdown",
   "metadata": {},
   "source": [
    "[Documentacion fairlearn](https://github.com/fairlearn/fairlearn)"
   ]
  }
 ],
 "metadata": {
  "language_info": {
   "name": "python"
  }
 },
 "nbformat": 4,
 "nbformat_minor": 2
}
