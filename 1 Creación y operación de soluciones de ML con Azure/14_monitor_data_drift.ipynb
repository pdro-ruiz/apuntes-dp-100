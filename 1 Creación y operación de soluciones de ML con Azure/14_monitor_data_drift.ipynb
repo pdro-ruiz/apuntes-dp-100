{
 "cells": [
  {
   "cell_type": "markdown",
   "metadata": {},
   "source": [
    "# Monitoreo de Deriva de Datos\n",
    "\n",
    "Los modelos de aprendizaje automático pueden volverse menos precisos con el tiempo debido a cambios en los datos (deriva de datos).\n",
    "\n",
    "Ejemplo: \n",
    "    \n",
    "    Un modelo predice el rendimiento de combustible de autos basado en características como el número de cilindros. Si la eficiencia de combustible mejora con el tiempo (nueva tecnología), las predicciones del modelo basado en datos antiguos serán menos precisas.\n",
    "\n",
    "**Solución**: Monitorear la deriva de datos para reentrenar modelos y mantener la precisión."
   ]
  },
  {
   "cell_type": "markdown",
   "metadata": {},
   "source": [
    "#### Creating a data drift monitor - Monitoreo de Deriva de Datos\n",
    "\n",
    "Monitorear la deriva de datos con datasets permite identificar cambios en la distribución de datos que puedan afectar la precisión del modelo.\n",
    "\n",
    "Detección de Deriva: Azure ML permite comparar datos nuevos con el conjunto de datos de entrenamiento para detectar cambios.\n",
    "\n",
    "Ejemplo:\n",
    "\n",
    "    Un hospital compara datos de pacientes nuevos con los usados para entrenar un modelo de predicción de diabetes.\n",
    "\n",
    "**Monitoreo con Datasets Registrados**:\n",
    "- Se necesitan dos datasets:\n",
    "  - Base de referencia (original de entrenamiento).\n",
    "  - Objetivo (con columna de fecha para medir cambios a lo largo del tiempo).\n",
    "- Se puede configurar un servicio para recolectar nuevos datos usados por el modelo y almacenarlos en Azure Blob Storage (potencial dataset objetivo).\n",
    "\n",
    "**Creación de un Monitor de Deriva**:\n",
    "- Detecta la deriva y activa alertas si supera un umbral definido.\n",
    "- Se puede crear desde Azure Machine Learning Studio o usando el SDK.\n",
    "- Permite un \"backfill\" para comparar inicialmente el dataset base con el objetivo."
   ]
  },
  {
   "cell_type": "markdown",
   "metadata": {},
   "source": [
    "#### Configuración y Notificaciones del Monitor de Deriva de Datos\n",
    "\n",
    "La configuración de la programación, umbrales y notificaciones permite un monitoreo efectivo de la deriva de datos y la detección oportuna de cambios que puedan afectar la precisión del modelo.\n",
    "\n",
    "Programación y Umbrales:\n",
    "- Al definir un monitor de deriva de datos, se especifica:\n",
    "  - Horario de ejecución: diario, semanal o mensual.\n",
    "  - Umbral de deriva: magnitud de cambio a partir del cual se envía una notificación.\n",
    "  - Correo electrónico de notificación: dirección a la que se enviarán las alertas.\n",
    "\n",
    "Cálculo de la Deriva:\n",
    "- El monitor compara periódicamente el set de datos base con el objetivo y calcula la deriva para las características monitoreadas.\n",
    "- La deriva se mide por la magnitud del cambio en la distribución estadística de los valores de las características a lo largo del tiempo.\n",
    "\n",
    "Detección y Notificación de Deriva Significativa:\n",
    "- Se esperan variaciones naturales entre los conjuntos de datos, pero se monitorizan cambios grandes que indiquen deriva significativa.\n",
    "- Se puede definir un umbral de magnitud de deriva para recibir notificaciones por email.\n",
    "\n",
    "Ejemplo:\n",
    "\n",
    "    Se configura un monitor en Python para ejecutarse semanalmente y enviar alertas si la magnitud de deriva supera 0.3.\n",
    "\n"
   ]
  }
 ],
 "metadata": {
  "language_info": {
   "name": "python"
  }
 },
 "nbformat": 4,
 "nbformat_minor": 2
}
