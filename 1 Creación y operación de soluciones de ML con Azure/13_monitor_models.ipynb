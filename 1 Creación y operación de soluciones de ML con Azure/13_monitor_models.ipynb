{
 "cells": [
  {
   "cell_type": "markdown",
   "metadata": {},
   "source": [
    "# Monitoreo de Modelos de ML con Application Insights\n",
    "\n",
    "¿Qué es Application Insights? Servicio de administración del rendimiento de aplicaciones de Azure.\n",
    "\n",
    "- Permite capturar, almacenar y analizar datos de telemetría de aplicaciones (independientemente de si se ejecutan en Azure).\n",
    "- Requiere un paquete de instrumentación ligero para capturar y enviar datos.\n",
    "\n",
    "Integración con Azure ML\n",
    "- El paquete necesario ya está incluido en los servicios web de Azure ML.\n",
    "- Permite capturar y revisar datos de telemetría para modelos publicados con Azure Machine Learning."
   ]
  },
  {
   "cell_type": "markdown",
   "metadata": {},
   "source": [
    "#### Habilitar Application Insights para Monitoreo de Modelos\n",
    "\n",
    "- Recurso de Application Insights asociado a su espacio de trabajo de Azure ML.\n",
    "- Servicio configurado para usar ese recurso para registro de telemetría.\n",
    "\n",
    "Asociación de Application Insights\n",
    "- Se selecciona un recurso existente al crear el espacio de trabajo de Azure Machine Learning.\n",
    "- Si no se selecciona ninguno, se crea uno automáticamente.\n",
    "- Se puede verificar el recurso asociado en la página \"Resumen\" del espacio de trabajo en el portal de Azure.\n",
    "\n",
    "Habilitación de Application Insights\n",
    "- Para **Nuevos servicios**: Habilitar durante la configuración de despliegue del servicio en tiempo real.\n",
    "- Para **Servicios existentes**:\n",
    "  - Modificar la configuración de despliegue para servicios basados en Azure Kubernetes Service (AKS) en el portal de Azure.\n",
    "  - Actualizar cualquier servicio web usando el SDK de Azure ML.\n"
   ]
  },
  {
   "cell_type": "code",
   "execution_count": null,
   "metadata": {},
   "outputs": [],
   "source": [
    "dep_config = AciWebservice.deploy_configuration(cpu_cores=1, \n",
    "                                                memory_gb=1, \n",
    "                                                enable_app_insights=True)"
   ]
  },
  {
   "cell_type": "markdown",
   "metadata": {},
   "source": [
    "#### Captura y visualización de telemetría\n",
    "Application Insights captura automáticamente toda la información escrita en los registros de errores y resultados estándar, y proporciona una funcionalidad de consulta para ver los datos de estos registros.\n",
    "\n",
    "##### Escribir datos de registro\n",
    "Para capturar datos de telemetría para Application Insights, puede escribir cualquier valor en el registro de salida estándar en el script de puntuación del servicio mediante una instrucción **print**, como se muestra en el ejemplo siguiente:"
   ]
  },
  {
   "cell_type": "code",
   "execution_count": null,
   "metadata": {},
   "outputs": [],
   "source": [
    "def init():\n",
    "    global model\n",
    "    model = joblib.load(Model.get_model_path('my_model'))\n",
    "def run(raw_data):\n",
    "    data = json.loads(raw_data)['data']\n",
    "    predictions = model.predict(data)\n",
    "    log_txt = 'Data:' + str(data) + ' - Predictions:' + str(predictions)\n",
    "    print(log_txt)\n",
    "    return predictions.tolist()"
   ]
  },
  {
   "cell_type": "markdown",
   "metadata": {},
   "source": [
    "Azure Machine Learning crea una dimensión personalizada en el modelo de datos de Application Insights para la salida que escriba.\n",
    "\n",
    "Registros de consultas en Application Insights\n",
    "Para analizar los datos de registro capturados, puede usar la interfaz de consulta de Log Analytics para Application Insights en Azure Portal. Esta interfaz admite una sintaxis de consulta similar a SQL que puede usar para extraer campos de los datos registrados, incluidas las dimensiones personalizadas creadas por el servicio Azure Machine Learning.\n",
    "\n",
    "Por ejemplo, la siguiente consulta devuelve los  campos `timestamp` y `customDimensions.Content` de los seguimientos de registro que tienen un  valor de campo de **message** de STDOUT (que indica que los datos están en el registro de salida estándar) y un `customDimensions`. `[\"Service Name\"]` valor de *my-svc*."
   ]
  },
  {
   "cell_type": "code",
   "execution_count": null,
   "metadata": {},
   "outputs": [],
   "source": [
    "traces\n",
    "|where message == \"STDOUT\"\n",
    "  and customDimensions.[\"Service Name\"] = \"my-svc\"\n",
    "| project  timestamp, customDimensions.Content"
   ]
  },
  {
   "cell_type": "markdown",
   "metadata": {},
   "source": [
    "Documentacion oficial: [Monitor online endpoints](https://learn.microsoft.com/en-us/azure/machine-learning/how-to-monitor-online-endpoints?view=azureml-api-2)"
   ]
  }
 ],
 "metadata": {
  "kernelspec": {
   "display_name": "jupyterlab",
   "language": "python",
   "name": "python3"
  },
  "language_info": {
   "name": "python",
   "version": "3.11.7"
  }
 },
 "nbformat": 4,
 "nbformat_minor": 2
}
